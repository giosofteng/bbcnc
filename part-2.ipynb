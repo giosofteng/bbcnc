{
 "cells": [
  {
   "cell_type": "markdown",
   "id": "214039f4-972b-42f9-8f12-45ff1445d814",
   "metadata": {},
   "source": [
    "For this part of assignment, let us use the module 3 movie ratings data and attempt to predict missing ratings using non-negative matrix factorization.\n",
    "\n",
    "**Section 1**"
   ]
  },
  {
   "cell_type": "code",
   "execution_count": 16,
   "id": "2bde6767-3777-4be5-921a-b50795ccde19",
   "metadata": {},
   "outputs": [
    {
     "name": "stdout",
     "output_type": "stream",
     "text": [
      "   uID gender  age  accupation    zip\n",
      "0    1      F    1          10  48067\n",
      "1    2      M   56          16  70072\n",
      "2    3      M   25          15  55117\n",
      "3    4      M   45           7  02460\n",
      "4    5      M   25          20  55455\n",
      "   mID                        title  year  Doc  Com  Hor  Adv  Wes  Dra  Ani  \\\n",
      "0    1                    Toy Story  1995    0    1    0    0    0    0    1   \n",
      "1    2                      Jumanji  1995    0    0    0    1    0    0    0   \n",
      "2    3             Grumpier Old Men  1995    0    1    0    0    0    0    0   \n",
      "3    4            Waiting to Exhale  1995    0    1    0    0    0    1    0   \n",
      "4    5  Father of the Bride Part II  1995    0    1    0    0    0    0    0   \n",
      "\n",
      "   War  Chi  Cri  Thr  Sci  Mys  Rom  Fil  Fan  Act  Mus  \n",
      "0    0    1    0    0    0    0    0    0    0    0    0  \n",
      "1    0    1    0    0    0    0    0    0    1    0    0  \n",
      "2    0    0    0    0    0    0    1    0    0    0    0  \n",
      "3    0    0    0    0    0    0    0    0    0    0    0  \n",
      "4    0    0    0    0    0    0    0    0    0    0    0  \n",
      "    uID   mID  rating\n",
      "0   744  1210       5\n",
      "1  3040  1584       4\n",
      "2  1451  1293       5\n",
      "3  5455  3176       2\n",
      "4  2507  3074       5\n",
      "    uID   mID  rating\n",
      "0  2233   440       4\n",
      "1  4274   587       5\n",
      "2  2498   454       3\n",
      "3  2868  2336       5\n",
      "4  1636  2686       5\n"
     ]
    }
   ],
   "source": [
    "import pandas as pd\n",
    "pd.set_option('display.max_columns', None)\n",
    "\n",
    "# import data and display columns\n",
    "data_users = pd.read_csv('users.csv')\n",
    "data_movies = pd.read_csv('movies.csv')\n",
    "data_train = pd.read_csv('train.csv')\n",
    "data_test = pd.read_csv('test.csv')\n",
    "print(data_users.head())\n",
    "print(data_movies.head())\n",
    "print(data_train.head())\n",
    "print(data_test.head())"
   ]
  },
  {
   "cell_type": "code",
   "execution_count": 17,
   "id": "8c2fbb70-c326-4886-8c86-f33e8eaa1fac",
   "metadata": {},
   "outputs": [
    {
     "name": "stdout",
     "output_type": "stream",
     "text": [
      "RMSE: 2.8724517237578873\n"
     ]
    }
   ],
   "source": [
    "import numpy as np\n",
    "from sklearn.decomposition import NMF\n",
    "from sklearn.metrics import mean_squared_error\n",
    "\n",
    "# create user-movie matrix:\n",
    "# rows: users\n",
    "# cols: movies\n",
    "# vals: ratings\n",
    "mat_user_movie = data_train.pivot(index='uID', columns='mID', values='rating').fillna(0)\n",
    "\n",
    "# use NMF\n",
    "mod_nmf = NMF(n_components=15, max_iter=1500, random_state=42)\n",
    "feat_user = mod_nmf.fit_transform(mat_user_movie)\n",
    "feat_movie = mod_nmf.components_\n",
    "\n",
    "# create predicted ratings matrix\n",
    "mat_predict_ratings = np.dot(feat_user, feat_movie)\n",
    "\n",
    "# get predicted ratings for test data\n",
    "# check if movie ID exists in training data and default to 0 if it doesn't\n",
    "test_uIDs = data_test['uID']\n",
    "test_mIDs = data_test['mID']\n",
    "train_uIDs = mat_user_movie.index\n",
    "train_mIDs = mat_user_movie.columns\n",
    "test_ratings = data_test['rating']\n",
    "test_predicts = []\n",
    "for uID, mID in zip(test_uIDs, test_mIDs):\n",
    "    if (uID in train_uIDs) and (mID in train_mIDs):\n",
    "        uID = train_uIDs.get_loc(uID)\n",
    "        mID = train_mIDs.get_loc(mID)\n",
    "        test_predicts.append(mat_predict_ratings[uID, mID])\n",
    "    else:\n",
    "        test_predicts.append(0)\n",
    "\n",
    "# get RMSE\n",
    "print(f'RMSE: {np.sqrt(mean_squared_error(test_ratings, test_predicts))}')"
   ]
  },
  {
   "cell_type": "markdown",
   "id": "6aa476c3-095b-4021-a2aa-ecb2b0f357f8",
   "metadata": {},
   "source": [
    "**Section 2**\n",
    "\n",
    "So, it seems we ended up with a rather high RMSE of ~2.87. This is worse than what the simpler baseline and similarity-based methods yielded and shows that NMF might not be a good choice for this kind of problem. In fact, there are several reasons why this might be the case.\n",
    "\n",
    "To start with, NMF requires a rather dense matrix to be accurate. After all, it works by learning latent factors. Our matrices though, were quite sparse. This also reflects the real world where people do not usually go through a long list of movies, leaving ratings or feedback for each. Furthermore, NMF will always struggle with users/movies that have few ratings, which is very common with new users and movies. NMF is also highly susceptible to overfitting—it might try to learn too many latent factors from the training data and fail to apply that knowledge to the test data.\n",
    "\n",
    "Some ways to potentially improve an NMF-based predictor is to leverage regularization. This might help with overfitting and allow for better generalization when working with test data. Furthermore, we could incorporate some similarity-based methods into our NMF model, creating a hybrid system. Such a system would likely use NMF to extract the latent factors but then rely on a collaborative approach for final predictions. Another way of helping NMF perform better is to give it more data in addition to ratings, such as whether a user finished the movie or how many times they watched it."
   ]
  },
  {
   "cell_type": "code",
   "execution_count": null,
   "id": "1e5f2595-d5e4-4bb8-aa14-0ee34fed74a5",
   "metadata": {},
   "outputs": [],
   "source": []
  }
 ],
 "metadata": {
  "kernelspec": {
   "display_name": "Python 3 (ipykernel)",
   "language": "python",
   "name": "python3"
  },
  "language_info": {
   "codemirror_mode": {
    "name": "ipython",
    "version": 3
   },
   "file_extension": ".py",
   "mimetype": "text/x-python",
   "name": "python",
   "nbconvert_exporter": "python",
   "pygments_lexer": "ipython3",
   "version": "3.12.7"
  }
 },
 "nbformat": 4,
 "nbformat_minor": 5
}
